{
 "cells": [
  {
   "cell_type": "markdown",
   "metadata": {
    "colab_type": "text",
    "id": "tz5MYp2mgc1O"
   },
   "source": [
    "# Linear Regression\n",
    "\n",
    "In 1991, Orley Ashenfelter, an economics professor at Princeton University, stunned the wine world with a bold prediction. He predicted that the 1990 vintage of Bordeaux wines would be the \"wine of the century,'' even better than the prized 1961 vintage. Furthermore, he made this prediction without tasting even a drop of the wine, which had been placed in oak barrels just months earlier.\n",
    "\n",
    "How did Ashenfelter predict the quality of the wine without tasting it? He used data on past vintages to come up with the following formula for predicting wine quality:\n",
    "\n",
    "\\begin{align}\n",
    "    \\widehat{\\text{wine quality}} = -7.8 &+ 0.62 \\cdot (\\text{average summer temperature}) \\nonumber \\\\\n",
    "    &+ 0.0012 \\cdot (\\text{winter rainfall}) \\nonumber \\\\\n",
    "    &- 0.0037 \\cdot (\\text{harvest rainfall}) \\nonumber \\\\\n",
    "    &+ 0.024 \\cdot (\\text{age of the wine})\n",
    "    \\label{eq:ashenfelter}\n",
    "\\end{align}\n",
    "\n",
    "The variable on the left-hand side of this expression, wine quality, is what we are trying to predict and is called \n",
    "the _target_ (or _label_). (The hat symbol over  \"wine quality\" indicates that the values are predicted instead of observed.) The variables on the right-hand side, such as \"average summer temperature\" and \"harvest rainfall,\" are called _features_ and are the inputs used to predict the target. Although Ashenfelter had no way of knowing the quality of the 1990 wines, he did have the values of the features in 1990, so to make a prediction, all he had to do was plug those values into the equation above. In this way, he arrived at the following prediction for the quality of the 1990 Bordeaux, after they had been aged for 31 years (like the 1961 Bordeaux had been at the time):\n",
    "\n",
    "\\begin{align}\n",
    "    -7.8 &+ 0.62 \\cdot (18.7) \\nonumber \\\\\n",
    "    &+ 0.0012 \\cdot (468) \\nonumber \\\\\n",
    "    &- 0.0037 \\cdot (80) \\nonumber \\\\\n",
    "    &+ 0.024 \\cdot (31) = 4.8.  \\label{eq:ashenfelter_1990}\n",
    "\\end{align}\n",
    "\n",
    "For comparison, the quality of the prized 1961 vintage was 4.6.\n",
    "\n",
    "You can imagine the uproar from wine experts, who had spent years refining their palates to distinguish good wines from bad. Robert Parker, the most influential wine critic in America, called Ashenfelter's predictions \"ludicrous and absurd\", comparing him to a \"movie critic who never goes to see the movie but tells you how good it is based on the actors and the director.\" It did not help that Ashenfelter had also openly challenged Parker's rating of the 1986 Bordeaux. Parker thought they would be \"very good and sometimes exceptional.\" But according to Ashenfelter's formula, the low summer temperatures and high harvest rainfalls in 1986 doomed the vintage.\n",
    "\n",
    "Who was right? Thirty years later, Robert Parker ranks the 1986 Bordeaux well, but the 1990 Bordeaux wines are exceptional, with three of the six wines scoring a 98 on a 100-point scale.\n",
    "\n",
    "We will reproduce Ashenfelter's analysis, which is an example of _machine learning_. Machine learning is concerned with the general problem of how to use data to make predictions. The process of producing a model like Ashenfelter's from data is called _fitting_ a model (although the terms _training_ or _learning_ are also used), and the data that is used to fit the model is the\n",
    "_training data_."
   ]
  },
  {
   "cell_type": "markdown",
   "metadata": {
    "colab_type": "text",
    "id": "kBuD03vngc12"
   },
   "source": [
    "## Getting Familiar with the Data\n",
    "\n",
    "First, we read in the historical data that Ashenfelter used. The observational unit in this data set is the vintage, so we index this `DataFrame` by the year."
   ]
  },
  {
   "cell_type": "code",
   "execution_count": 1,
   "metadata": {
    "colab": {},
    "colab_type": "code",
    "id": "80drpebdgc14",
    "outputId": "1c56a82c-8fd1-47b8-8afe-0a503bdf03e3"
   },
   "outputs": [
    {
     "data": {
      "text/html": [
       "<div>\n",
       "<style scoped>\n",
       "    .dataframe tbody tr th:only-of-type {\n",
       "        vertical-align: middle;\n",
       "    }\n",
       "\n",
       "    .dataframe tbody tr th {\n",
       "        vertical-align: top;\n",
       "    }\n",
       "\n",
       "    .dataframe thead th {\n",
       "        text-align: right;\n",
       "    }\n",
       "</style>\n",
       "<table border=\"1\" class=\"dataframe\">\n",
       "  <thead>\n",
       "    <tr style=\"text-align: right;\">\n",
       "      <th></th>\n",
       "      <th>price</th>\n",
       "      <th>summer</th>\n",
       "      <th>har</th>\n",
       "      <th>sep</th>\n",
       "      <th>win</th>\n",
       "      <th>age</th>\n",
       "    </tr>\n",
       "    <tr>\n",
       "      <th>year</th>\n",
       "      <th></th>\n",
       "      <th></th>\n",
       "      <th></th>\n",
       "      <th></th>\n",
       "      <th></th>\n",
       "      <th></th>\n",
       "    </tr>\n",
       "  </thead>\n",
       "  <tbody>\n",
       "    <tr>\n",
       "      <th>1952</th>\n",
       "      <td>37.0</td>\n",
       "      <td>17.1</td>\n",
       "      <td>160</td>\n",
       "      <td>14.3</td>\n",
       "      <td>600</td>\n",
       "      <td>40</td>\n",
       "    </tr>\n",
       "    <tr>\n",
       "      <th>1953</th>\n",
       "      <td>63.0</td>\n",
       "      <td>16.7</td>\n",
       "      <td>80</td>\n",
       "      <td>17.3</td>\n",
       "      <td>690</td>\n",
       "      <td>39</td>\n",
       "    </tr>\n",
       "    <tr>\n",
       "      <th>1955</th>\n",
       "      <td>45.0</td>\n",
       "      <td>17.1</td>\n",
       "      <td>130</td>\n",
       "      <td>16.8</td>\n",
       "      <td>502</td>\n",
       "      <td>37</td>\n",
       "    </tr>\n",
       "    <tr>\n",
       "      <th>1957</th>\n",
       "      <td>22.0</td>\n",
       "      <td>16.1</td>\n",
       "      <td>110</td>\n",
       "      <td>16.2</td>\n",
       "      <td>420</td>\n",
       "      <td>35</td>\n",
       "    </tr>\n",
       "    <tr>\n",
       "      <th>1958</th>\n",
       "      <td>18.0</td>\n",
       "      <td>16.4</td>\n",
       "      <td>187</td>\n",
       "      <td>19.1</td>\n",
       "      <td>582</td>\n",
       "      <td>34</td>\n",
       "    </tr>\n",
       "  </tbody>\n",
       "</table>\n",
       "</div>"
      ],
      "text/plain": [
       "      price  summer  har   sep  win  age\n",
       "year                                    \n",
       "1952   37.0    17.1  160  14.3  600   40\n",
       "1953   63.0    16.7   80  17.3  690   39\n",
       "1955   45.0    17.1  130  16.8  502   37\n",
       "1957   22.0    16.1  110  16.2  420   35\n",
       "1958   18.0    16.4  187  19.1  582   34"
      ]
     },
     "execution_count": 1,
     "metadata": {},
     "output_type": "execute_result"
    }
   ],
   "source": [
    "import pandas as pd\n",
    "data_dir = \"\"\n",
    "bordeaux_df = pd.read_csv(\"bordeaux.csv\",index_col=\"year\")\n",
    "bordeaux_df.head()"
   ]
  },
  {
   "cell_type": "markdown",
   "metadata": {
    "colab_type": "text",
    "id": "24fRMKkZgc1_"
   },
   "source": [
    "The **price** column is in 1981 dollars, normalized so that the 1961 Bordeaux has a price of 100. Price is a reasonable proxy for the quality of the wine. The **summer** column contains the average summer temperature (in degrees Celsius), while the **har** and **win** columns contain the harvest and winter rainfalls (in millimeters). The **sep** column stores the average temperature in September, which Ashenfelter did not include in his model."
   ]
  },
  {
   "cell_type": "markdown",
   "metadata": {
    "colab_type": "text",
    "id": "vL21wyW0gc2B"
   },
   "source": [
    "Let us also take a peek at the end of this `DataFrame`."
   ]
  },
  {
   "cell_type": "code",
   "execution_count": 2,
   "metadata": {
    "colab": {},
    "colab_type": "code",
    "id": "pY5XHupXgc2C",
    "outputId": "62270b0a-46b3-4dc8-b1c8-d4affcf02be0"
   },
   "outputs": [
    {
     "data": {
      "text/html": [
       "<div>\n",
       "<style scoped>\n",
       "    .dataframe tbody tr th:only-of-type {\n",
       "        vertical-align: middle;\n",
       "    }\n",
       "\n",
       "    .dataframe tbody tr th {\n",
       "        vertical-align: top;\n",
       "    }\n",
       "\n",
       "    .dataframe thead th {\n",
       "        text-align: right;\n",
       "    }\n",
       "</style>\n",
       "<table border=\"1\" class=\"dataframe\">\n",
       "  <thead>\n",
       "    <tr style=\"text-align: right;\">\n",
       "      <th></th>\n",
       "      <th>price</th>\n",
       "      <th>summer</th>\n",
       "      <th>har</th>\n",
       "      <th>sep</th>\n",
       "      <th>win</th>\n",
       "      <th>age</th>\n",
       "    </tr>\n",
       "    <tr>\n",
       "      <th>year</th>\n",
       "      <th></th>\n",
       "      <th></th>\n",
       "      <th></th>\n",
       "      <th></th>\n",
       "      <th></th>\n",
       "      <th></th>\n",
       "    </tr>\n",
       "  </thead>\n",
       "  <tbody>\n",
       "    <tr>\n",
       "      <th>1987</th>\n",
       "      <td>NaN</td>\n",
       "      <td>17.0</td>\n",
       "      <td>115</td>\n",
       "      <td>18.9</td>\n",
       "      <td>452</td>\n",
       "      <td>5</td>\n",
       "    </tr>\n",
       "    <tr>\n",
       "      <th>1988</th>\n",
       "      <td>NaN</td>\n",
       "      <td>17.1</td>\n",
       "      <td>59</td>\n",
       "      <td>16.8</td>\n",
       "      <td>808</td>\n",
       "      <td>4</td>\n",
       "    </tr>\n",
       "    <tr>\n",
       "      <th>1989</th>\n",
       "      <td>NaN</td>\n",
       "      <td>18.6</td>\n",
       "      <td>82</td>\n",
       "      <td>18.4</td>\n",
       "      <td>443</td>\n",
       "      <td>3</td>\n",
       "    </tr>\n",
       "    <tr>\n",
       "      <th>1990</th>\n",
       "      <td>NaN</td>\n",
       "      <td>18.7</td>\n",
       "      <td>80</td>\n",
       "      <td>19.3</td>\n",
       "      <td>468</td>\n",
       "      <td>2</td>\n",
       "    </tr>\n",
       "    <tr>\n",
       "      <th>1991</th>\n",
       "      <td>NaN</td>\n",
       "      <td>17.7</td>\n",
       "      <td>183</td>\n",
       "      <td>20.4</td>\n",
       "      <td>570</td>\n",
       "      <td>1</td>\n",
       "    </tr>\n",
       "  </tbody>\n",
       "</table>\n",
       "</div>"
      ],
      "text/plain": [
       "      price  summer  har   sep  win  age\n",
       "year                                    \n",
       "1987    NaN    17.0  115  18.9  452    5\n",
       "1988    NaN    17.1   59  16.8  808    4\n",
       "1989    NaN    18.6   82  18.4  443    3\n",
       "1990    NaN    18.7   80  19.3  468    2\n",
       "1991    NaN    17.7  183  20.4  570    1"
      ]
     },
     "execution_count": 2,
     "metadata": {},
     "output_type": "execute_result"
    }
   ],
   "source": [
    "bordeaux_df.tail()"
   ]
  },
  {
   "cell_type": "markdown",
   "metadata": {
    "colab_type": "text",
    "id": "28uXMx4kgc2H"
   },
   "source": [
    "We see that the `DataFrame` also contains data for vintages where the price is missing (including 1990, the vintage for which Ashenfelter made his prediction). In fact, prices are only available up to 1980, as it takes several years before wine quality can be estimated with much reliability), so only part of the `DataFrame` can be used for training. The rest of the data, where the features are known but the target is not, is called the _test data_. Machine learning fits a model to the training data, which is then used to predict the targets in the test data. The following code splits the `DataFrame` into the training and test sets."
   ]
  },
  {
   "cell_type": "code",
   "execution_count": 3,
   "metadata": {
    "colab": {},
    "colab_type": "code",
    "id": "BQ8xffEcgc2J"
   },
   "outputs": [],
   "source": [
    "bordeaux_train = bordeaux_df.loc[:1980].copy()\n",
    "bordeaux_test = bordeaux_df.loc[1981:].copy()"
   ]
  },
  {
   "cell_type": "markdown",
   "metadata": {
    "colab_type": "text",
    "id": "TXbNNzWRgc2O"
   },
   "source": [
    "## Warm-Up: A Model with One Feature\n",
    "\n",
    "Before fitting a model that uses all of the features, we first consider a model that uses only the age of the wine to predict the price. That is, we fit a model of the form\n",
    "\\begin{equation}\n",
    "    \\widehat{\\text{price}} = b + c \\cdot \\text{age},\n",
    "    \\label{eq:simple_linear_regression}\n",
    "\\end{equation}\n",
    "where $b$ and $c$ are numbers that we will learn from the training data. Models of the form above are called _linear regression_ models. (The way in which this model is \"linear\" will become apparent in a moment.) This model only involves two variables, **age** and **price**, so we can visualize the data easily using a scatterplot (see Chapter 3)."
   ]
  },
  {
   "cell_type": "code",
   "execution_count": 4,
   "metadata": {
    "colab": {},
    "colab_type": "code",
    "id": "v3KbYMldgc2Q",
    "outputId": "3f775bc0-63bb-44d3-9e53-47e655bd3782"
   },
   "outputs": [
    {
     "data": {
      "text/plain": [
       "<AxesSubplot:xlabel='age', ylabel='price'>"
      ]
     },
     "execution_count": 4,
     "metadata": {},
     "output_type": "execute_result"
    },
    {
     "data": {
      "image/png": "[encoded data removed]",
      "text/plain": [
       "<Figure size 432x288 with 1 Axes>"
      ]
     },
     "metadata": {
      "needs_background": "light"
     },
     "output_type": "display_data"
    }
   ],
   "source": [
    "bordeaux_train.plot.scatter(x=\"age\", y=\"price\")"
   ]
  },
  {
   "cell_type": "markdown",
   "metadata": {
    "colab_type": "text",
    "id": "ejFCGYtlgc2Y"
   },
   "source": [
    "Now, to fit models like the above to the training data, we use the scikit-learn package, which was used in Chapter 3 for transforming variables and calculating distances. However, its main purpose is to fit machine learning models, including linear regression. All models in scikit-learn are used in essentially the same way, following the three-step pattern:\n",
    "\n",
    "1. Declare the model.\n",
    "2. Fit the model to training data.\n",
    "3. Use the model to predict on test data.\n",
    "\n",
    "In the case of the linear regression model above, the code is as follows."
   ]
  },
  {
   "cell_type": "code",
   "execution_count": 5,
   "metadata": {
    "colab": {},
    "colab_type": "code",
    "id": "M5tdMqZugc2b",
    "outputId": "909360fa-5e8a-4c1c-db2b-4ac2eb809869"
   },
   "outputs": [
    {
     "data": {
      "text/plain": [
       "array([12.41648163, 11.26046336, 10.1044451 ,  8.94842683,  7.79240856,\n",
       "        6.6363903 ,  5.48037203,  4.32435376,  3.1683355 ,  2.01231723,\n",
       "        0.85629897])"
      ]
     },
     "execution_count": 5,
     "metadata": {},
     "output_type": "execute_result"
    }
   ],
   "source": [
    "from sklearn.linear_model import LinearRegression\n",
    "\n",
    "X_train = bordeaux_train[[\"age\"]]\n",
    "X_test = bordeaux_test[[\"age\"]]\n",
    "y_train = bordeaux_train[\"price\"]\n",
    "\n",
    "model = LinearRegression()\n",
    "model.fit(X=X_train, y=y_train)\n",
    "model.predict(X=X_test)"
   ]
  },
  {
   "cell_type": "markdown",
   "metadata": {
    "colab_type": "text",
    "id": "vXNLm4DHgc2l"
   },
   "source": [
    "The parameters of `.fit()` are `X` for the features and `y` for the targets, which are assumed to be 2-D and 1-D arrays of numbers, respectively. So even when there is only one feature, as in this case, we still need to supply a 2-D array with one column---hence, the double brackets around `\"age\"` when defining `X_train` and `X_test`.\n",
    "\n",
    "By contrast, `.predict()` only has one parameter, `X` for the features. That is because its job is to predict the targets `y` for the given features. Note that the predictions will always be returned in the form of `numpy` arrays, no matter the type of the input data---so although we supplied `pandas` objects, `sklearn` still returned the predicted values as `numpy` arrays. The predictions are in the same order as the rows of `X`."
   ]
  },
  {
   "cell_type": "markdown",
   "metadata": {
    "colab_type": "text",
    "id": "XFtfFRqRgc2v"
   },
   "source": [
    "Because there are only two variables involved, the model above is a rare example of a machine learning model we can visualize. A general way to do this is to generate a fine grid of `X` values using `np.linspace()` and call `model.predict()` to get the predicted target at each of these values. We can then use these predictions to draw a curve which depicts the predicted value of `y` at each value of `X`. In the code below, we put the predictions in a `pandas` `Series`, indexed by the `X` values, and then call `.plot.line()`."
   ]
  },
  {
   "cell_type": "code",
   "execution_count": 6,
   "metadata": {
    "colab": {},
    "colab_type": "code",
    "id": "imqK17uOgc20",
    "outputId": "84d1776a-f644-465e-c047-87e8e2c6b54f"
   },
   "outputs": [
    {
     "data": {
      "text/plain": [
       "<AxesSubplot:xlabel='age', ylabel='price'>"
      ]
     },
     "execution_count": 6,
     "metadata": {},
     "output_type": "execute_result"
    },
    {
     "data": {
      "image/png": "[encoded data removed]",
      "text/plain": [
       "<Figure size 432x288 with 1 Axes>"
      ]
     },
     "metadata": {
      "needs_background": "light"
     },
     "output_type": "display_data"
    }
   ],
   "source": [
    "import numpy as np\n",
    "\n",
    "X_new = pd.DataFrame()\n",
    "# create a sequence of 200 evenly spaced numbers from 10 to 41\n",
    "X_new[\"age\"] = np.linspace(10, 41, num=200)\n",
    "\n",
    "# create a Series out of the predicted values\n",
    "# (trailing underscore indicates fitted values)\n",
    "y_new_ = pd.Series(\n",
    "    model.predict(X_new), # y values in Series.plot.line()\n",
    "    index=X_new[\"age\"]    # x values in Series.plot.line()\n",
    ")\n",
    "\n",
    "# plot the data, then the model\n",
    "bordeaux_train.plot.scatter(x=\"age\", y=\"price\")\n",
    "y_new_.plot.line()"
   ]
  },
  {
   "cell_type": "markdown",
   "metadata": {
    "colab_type": "text",
    "id": "4I42T5aGgc3E"
   },
   "source": [
    "The resulting plot is shown above. Notice that the curve is a straight line, which is why this model is called  _linear_ regression. In hindsight, this is obvious from the model equation: $b$ is simply the intercept and $c$ the slope of this line. All linear regression does is choose the intercept and slope to minimize the total squared distance between the points and the line---that is, between the observed and predicted prices. In mathematical terms, $b$ and $c$ are chosen to minimize\n",
    "\\begin{align}\n",
    "    & \\text{sum of } (\\text{price} - \\widehat{\\text{price}})^2 &= & & \\text{sum of } (\\text{price} - (b + c\\cdot \\text{age}))^2 \\\\\n",
    "    & \\text{over training data } &\\phantom{=} & & \\text{ over training data}.\n",
    "\\end{align}\n",
    "Since `sklearn` does this optimization for us, it is not necessary to understand the details of this process to extract useful insights out of linear regression. However, the math is explained in the appendix of this lesson for those who are curious."
   ]
  },
  {
   "cell_type": "markdown",
   "metadata": {
    "colab_type": "text",
    "id": "HjyNFyiNgc3J"
   },
   "source": [
    "## What to Do about Nonlinearity\n",
    "\n",
    "One question is whether the relationship between age and price is truly linear. In the graph above, it seems that the points deviate more from the line when prices are high than when they are low. To correct this, we need to spread out low prices and rein in high prices. Previously, we learned that this can be achieved by applying a log transformation to the prices. Let's add a column to the training data for the log-price."
   ]
  },
  {
   "cell_type": "code",
   "execution_count": 7,
   "metadata": {
    "colab": {},
    "colab_type": "code",
    "id": "OEdVbxqugc3O"
   },
   "outputs": [],
   "source": [
    "bordeaux_train[\"log(price)\"] = np.log(bordeaux_train[\"price\"])"
   ]
  },
  {
   "cell_type": "markdown",
   "metadata": {
    "colab_type": "text",
    "id": "DKsRIkhdgc3V"
   },
   "source": [
    "Now, we will fit a linear regression model to predict this new target. That is, in contrast to the previous model, we now fit the model \n",
    "\\begin{equation}\n",
    "    \\widehat{\\text{log(price)}} = b + c \\cdot \\text{age},\n",
    "    \\label{eq:simple_linear_regression_log}\n",
    "\\end{equation}\n",
    "where $b$ and $c$ are chosen to minimize \n",
    "\\begin{equation}\n",
    "    \\text{sum of } (\\text{log(price)} - \\widehat{\\text{log(price)}})^2 \\text{ over training data}\n",
    "\\end{equation}\n",
    "over the training data. The code below fits this model."
   ]
  },
  {
   "cell_type": "code",
   "execution_count": 8,
   "metadata": {
    "colab": {},
    "colab_type": "code",
    "id": "leZ3mYykgc3W",
    "outputId": "544e62b1-877a-4d17-9d70-2ce15484fce1"
   },
   "outputs": [
    {
     "data": {
      "text/plain": [
       "<AxesSubplot:xlabel='age', ylabel='log(price)'>"
      ]
     },
     "execution_count": 8,
     "metadata": {},
     "output_type": "execute_result"
    },
    {
     "data": {
      "image/png": "[encoded data removed]",
      "text/plain": [
       "<Figure size 432x288 with 1 Axes>"
      ]
     },
     "metadata": {
      "needs_background": "light"
     },
     "output_type": "display_data"
    }
   ],
   "source": [
    "log_price_model = LinearRegression()\n",
    "log_price_model.fit(X=bordeaux_train[[\"age\"]],\n",
    "                    y=bordeaux_train[\"log(price)\"])\n",
    "\n",
    "X_new = pd.DataFrame()\n",
    "X_new[\"age\"] = np.linspace(10, 41, num=200)\n",
    "y_new_ = pd.Series(\n",
    "    log_price_model.predict(X_new),\n",
    "    index=X_new[\"age\"]\n",
    ")\n",
    "    \n",
    "bordeaux_train.plot.scatter(x=\"age\", y=\"log(price)\")\n",
    "y_new_.plot.line()"
   ]
  },
  {
   "cell_type": "markdown",
   "metadata": {
    "colab_type": "text",
    "id": "nRPZ83ixgc3b"
   },
   "source": [
    "The points are more evenly spread out when the target is log-price instead of price. For this reason, Ashenfelter chose log-price to be the measure of \"wine quality\" in his linear regression model."
   ]
  },
  {
   "cell_type": "markdown",
   "metadata": {
    "colab_type": "text",
    "id": "27CMYtQLgc3d"
   },
   "source": [
    "## Fitting Ashenfelter's Model\n",
    "\n",
    "We are now ready to reproduce Ashenfelter's analysis. To do so, we will need to fit a linear regression model that predicts the log-price from the average summer temperature, winter rainfall, harvest rainfall, and the age of the wine. In other words, the model is of the form\n",
    "\\begin{align}\n",
    "    \\widehat{\\text{log(price)}} = b &+ c_1 \\cdot (\\text{average summer temperature}) \\nonumber \\\\\n",
    "    &+ c_2 \\cdot (\\text{winter rainfall}) \\nonumber \\\\\n",
    "    &+ c_3 \\cdot (\\text{harvest rainfall}) \\nonumber \\\\\n",
    "    &+ c_4 \\cdot (\\text{age of the wine}), \\label{eq:multiple_linear_regression}\n",
    "\\end{align}\n",
    "where $b, c_1, c_2, c_3, c_4$ are chosen to minimize \n",
    "\\begin{equation}\n",
    "    \\text{sum of } (\\text{log(price)} - \\widehat{\\text{log(price)}})^2 \\text{ over training data.}\n",
    "\\end{equation}\n",
    "This is still a _linear regression_ model, albeit a more complicated one.\n",
    "\n",
    "The code to fit this model is the natural extension of the code we wrote to fit the earlier models in this lesson. Instead of passing `bordeaux_train[[\"age\"]]` for `X`, we now supply a `DataFrame` containing all of the features we want to be in the model."
   ]
  },
  {
   "cell_type": "code",
   "execution_count": 9,
   "metadata": {
    "colab": {},
    "colab_type": "code",
    "id": "I7gTVpC_gc3f",
    "outputId": "bf2153cf-0e34-4e16-cd3d-c35196ed5b84"
   },
   "outputs": [
    {
     "data": {
      "text/plain": [
       "LinearRegression()"
      ]
     },
     "execution_count": 9,
     "metadata": {},
     "output_type": "execute_result"
    }
   ],
   "source": [
    "ashen_model = LinearRegression()\n",
    "ashen_model.fit(\n",
    "    X=bordeaux_train[[\"summer\", \"win\", \"har\", \"age\"]],\n",
    "    y=bordeaux_train[\"log(price)\"]\n",
    ")"
   ]
  },
  {
   "cell_type": "markdown",
   "metadata": {
    "colab_type": "text",
    "id": "hE_Ke72dgc35"
   },
   "source": [
    "This model is much harder to visualize, since it involves five variables: four features, plus the target. Nevertheless, we can obtain predictions from it just as we did with the simpler models above. We just need to supply the values of all of the features in the model, in the same order as in the training data."
   ]
  },
  {
   "cell_type": "code",
   "execution_count": 10,
   "metadata": {
    "colab": {},
    "colab_type": "code",
    "id": "VizNj96-gc36",
    "outputId": "7596fefc-59a1-42ca-fb78-995721a6096c"
   },
   "outputs": [
    {
     "data": {
      "text/plain": [
       "array([3.17926885, 3.4231464 , 3.71919787, 2.83391541, 3.48195778,\n",
       "       2.4330387 , 2.91879638, 3.5924235 , 3.97294747, 4.04789338,\n",
       "       3.14087609])"
      ]
     },
     "execution_count": 10,
     "metadata": {},
     "output_type": "execute_result"
    }
   ],
   "source": [
    "ashen_model.predict(\n",
    "    X=bordeaux_test[[\"summer\", \"win\", \"har\", \"age\"]]\n",
    ")"
   ]
  },
  {
   "cell_type": "markdown",
   "metadata": {
    "colab_type": "text",
    "id": "yfpP96Nggc4C"
   },
   "source": [
    "## Communication Corner: Interpreting the Model\n",
    "\n",
    "Even though we cannot visualize Ashenfelter's model, we can still \n",
    "interpret the model by examining the values of the _intercept_ $b$ and the _coefficients_ $c_1, c_2, c_3, c_4$.\n",
    "\n",
    "The coefficients are saved in the `.coef_` attribute, after the model has been fitted. (As above, the trailing underscore in `.coef_` reminds us that these are fitted values.)"
   ]
  },
  {
   "cell_type": "code",
   "execution_count": 11,
   "metadata": {
    "colab": {},
    "colab_type": "code",
    "id": "8SGCnIk_gc4E",
    "outputId": "51e681c9-35fd-450f-91f7-52ec8f69f75f"
   },
   "outputs": [
    {
     "data": {
      "text/plain": [
       "array([ 0.61871092,  0.00119721, -0.00374825,  0.02435187])"
      ]
     },
     "execution_count": 11,
     "metadata": {},
     "output_type": "execute_result"
    }
   ],
   "source": [
    "ashen_model.coef_"
   ]
  },
  {
   "cell_type": "markdown",
   "metadata": {
    "colab_type": "text",
    "id": "CGVfEskHgc4L"
   },
   "source": [
    "These coefficients are in the same order as the columns of `X`. So $0.61871092$ is the coefficient for **summer**, $0.00119721$ the coefficient for **win**, and so on. If you compare these values with the model at the beginning of this lesson, you will see that they are exactly the coefficients that Ashenfelter obtained. \n",
    "\n",
    "A positive coefficient means that the predicted target _increases_ as that feature increases, while a negative coefficient means that it _decreases_ as that feature increases. Since **win** has a positive coefficient $(0.0012)$ and **har** has a negative coefficient $(-0.0037)$, we conclude from the model that Bordeaux wines tend to be best when winter rainfall is high and harvest rainfall is low.\n",
    "\n",
    "Another essential component of a linear regression model is the _intercept_, which is stored in the `.intercept_` attribute, separately from the coefficients."
   ]
  },
  {
   "cell_type": "code",
   "execution_count": 12,
   "metadata": {
    "colab": {},
    "colab_type": "code",
    "id": "6oc0NmtLgc4M",
    "outputId": "a6f536e4-666b-482d-cbfc-26a52c44e404"
   },
   "outputs": [
    {
     "data": {
      "text/plain": [
       "-7.831137841446707"
      ]
     },
     "execution_count": 12,
     "metadata": {},
     "output_type": "execute_result"
    }
   ],
   "source": [
    "ashen_model.intercept_"
   ]
  },
  {
   "cell_type": "markdown",
   "metadata": {
    "colab_type": "text",
    "id": "KxOtqiSdgc4Z"
   },
   "source": [
    "In principle, the intercept is the predicted value when all of the features are equal to $0$. However, this interpretation is often purely hypothetical, since it may be impossible for some features to be $0$. For example, to interpret the intercept of $-7.8$ in the model above, we would have to set **summer** equal to $0$. That is, we would have to imagine a summer in Bordeaux, France where the average temperature was $0^\\circ\\text{C}$ (i.e., freezing), which would be so catastrophic that the quality of red wine would be the least of our worries!"
   ]
  },
  {
   "cell_type": "markdown",
   "metadata": {
    "colab_type": "text",
    "id": "6dZ46xkKgc4b"
   },
   "source": [
    "# Exercises"
   ]
  },
  {
   "cell_type": "markdown",
   "metadata": {
    "colab_type": "text",
    "id": "9qMHm1fOgc4l"
   },
   "source": [
    "_Exercises 1-3 ask you to fit linear regression models to the Ames housing data set (AmesHousing.txt ), which contains information about homes in Ames, Iowa._"
   ]
  },
  {
   "cell_type": "markdown",
   "metadata": {
    "colab_type": "text",
    "id": "auxey0fDgc4p"
   },
   "source": [
    "1\\. Fit a linear regression model that predicts the price of a home (**SalePrice**) using square footage (**Gr Liv Area**) as the only feature. Then, make a graph of the fitted model (this is possible because there is only one feature in this model). Do this the way we did it in the lesson, by creating a grid of `X` values and calling `model.predict()` on those `X` values."
   ]
  },
  {
   "cell_type": "code",
   "execution_count": 13,
   "metadata": {},
   "outputs": [
    {
     "data": {
      "text/html": [
       "<div>\n",
       "<style scoped>\n",
       "    .dataframe tbody tr th:only-of-type {\n",
       "        vertical-align: middle;\n",
       "    }\n",
       "\n",
       "    .dataframe tbody tr th {\n",
       "        vertical-align: top;\n",
       "    }\n",
       "\n",
       "    .dataframe thead th {\n",
       "        text-align: right;\n",
       "    }\n",
       "</style>\n",
       "<table border=\"1\" class=\"dataframe\">\n",
       "  <thead>\n",
       "    <tr style=\"text-align: right;\">\n",
       "      <th></th>\n",
       "      <th>Order</th>\n",
       "      <th>PID</th>\n",
       "      <th>MS SubClass</th>\n",
       "      <th>MS Zoning</th>\n",
       "      <th>Lot Frontage</th>\n",
       "      <th>Lot Area</th>\n",
       "      <th>Street</th>\n",
       "      <th>Alley</th>\n",
       "      <th>Lot Shape</th>\n",
       "      <th>Land Contour</th>\n",
       "      <th>...</th>\n",
       "      <th>Screen Porch</th>\n",
       "      <th>Pool Area</th>\n",
       "      <th>Pool QC</th>\n",
       "      <th>Fence</th>\n",
       "      <th>Misc Feature</th>\n",
       "      <th>Misc Val</th>\n",
       "      <th>Mo Sold</th>\n",
       "      <th>Sale Type</th>\n",
       "      <th>Sale Condition</th>\n",
       "      <th>SalePrice</th>\n",
       "    </tr>\n",
       "    <tr>\n",
       "      <th>Yr Sold</th>\n",
       "      <th></th>\n",
       "      <th></th>\n",
       "      <th></th>\n",
       "      <th></th>\n",
       "      <th></th>\n",
       "      <th></th>\n",
       "      <th></th>\n",
       "      <th></th>\n",
       "      <th></th>\n",
       "      <th></th>\n",
       "      <th></th>\n",
       "      <th></th>\n",
       "      <th></th>\n",
       "      <th></th>\n",
       "      <th></th>\n",
       "      <th></th>\n",
       "      <th></th>\n",
       "      <th></th>\n",
       "      <th></th>\n",
       "      <th></th>\n",
       "      <th></th>\n",
       "    </tr>\n",
       "  </thead>\n",
       "  <tbody>\n",
       "    <tr>\n",
       "      <th>2010</th>\n",
       "      <td>1</td>\n",
       "      <td>526301100</td>\n",
       "      <td>20</td>\n",
       "      <td>RL</td>\n",
       "      <td>141.0</td>\n",
       "      <td>31770</td>\n",
       "      <td>Pave</td>\n",
       "      <td>NaN</td>\n",
       "      <td>IR1</td>\n",
       "      <td>Lvl</td>\n",
       "      <td>...</td>\n",
       "      <td>0</td>\n",
       "      <td>0</td>\n",
       "      <td>NaN</td>\n",
       "      <td>NaN</td>\n",
       "      <td>NaN</td>\n",
       "      <td>0</td>\n",
       "      <td>5</td>\n",
       "      <td>WD</td>\n",
       "      <td>Normal</td>\n",
       "      <td>215000</td>\n",
       "    </tr>\n",
       "    <tr>\n",
       "      <th>2010</th>\n",
       "      <td>2</td>\n",
       "      <td>526350040</td>\n",
       "      <td>20</td>\n",
       "      <td>RH</td>\n",
       "      <td>80.0</td>\n",
       "      <td>11622</td>\n",
       "      <td>Pave</td>\n",
       "      <td>NaN</td>\n",
       "      <td>Reg</td>\n",
       "      <td>Lvl</td>\n",
       "      <td>...</td>\n",
       "      <td>120</td>\n",
       "      <td>0</td>\n",
       "      <td>NaN</td>\n",
       "      <td>MnPrv</td>\n",
       "      <td>NaN</td>\n",
       "      <td>0</td>\n",
       "      <td>6</td>\n",
       "      <td>WD</td>\n",
       "      <td>Normal</td>\n",
       "      <td>105000</td>\n",
       "    </tr>\n",
       "    <tr>\n",
       "      <th>2010</th>\n",
       "      <td>3</td>\n",
       "      <td>526351010</td>\n",
       "      <td>20</td>\n",
       "      <td>RL</td>\n",
       "      <td>81.0</td>\n",
       "      <td>14267</td>\n",
       "      <td>Pave</td>\n",
       "      <td>NaN</td>\n",
       "      <td>IR1</td>\n",
       "      <td>Lvl</td>\n",
       "      <td>...</td>\n",
       "      <td>0</td>\n",
       "      <td>0</td>\n",
       "      <td>NaN</td>\n",
       "      <td>NaN</td>\n",
       "      <td>Gar2</td>\n",
       "      <td>12500</td>\n",
       "      <td>6</td>\n",
       "      <td>WD</td>\n",
       "      <td>Normal</td>\n",
       "      <td>172000</td>\n",
       "    </tr>\n",
       "    <tr>\n",
       "      <th>2010</th>\n",
       "      <td>4</td>\n",
       "      <td>526353030</td>\n",
       "      <td>20</td>\n",
       "      <td>RL</td>\n",
       "      <td>93.0</td>\n",
       "      <td>11160</td>\n",
       "      <td>Pave</td>\n",
       "      <td>NaN</td>\n",
       "      <td>Reg</td>\n",
       "      <td>Lvl</td>\n",
       "      <td>...</td>\n",
       "      <td>0</td>\n",
       "      <td>0</td>\n",
       "      <td>NaN</td>\n",
       "      <td>NaN</td>\n",
       "      <td>NaN</td>\n",
       "      <td>0</td>\n",
       "      <td>4</td>\n",
       "      <td>WD</td>\n",
       "      <td>Normal</td>\n",
       "      <td>244000</td>\n",
       "    </tr>\n",
       "    <tr>\n",
       "      <th>2010</th>\n",
       "      <td>5</td>\n",
       "      <td>527105010</td>\n",
       "      <td>60</td>\n",
       "      <td>RL</td>\n",
       "      <td>74.0</td>\n",
       "      <td>13830</td>\n",
       "      <td>Pave</td>\n",
       "      <td>NaN</td>\n",
       "      <td>IR1</td>\n",
       "      <td>Lvl</td>\n",
       "      <td>...</td>\n",
       "      <td>0</td>\n",
       "      <td>0</td>\n",
       "      <td>NaN</td>\n",
       "      <td>MnPrv</td>\n",
       "      <td>NaN</td>\n",
       "      <td>0</td>\n",
       "      <td>3</td>\n",
       "      <td>WD</td>\n",
       "      <td>Normal</td>\n",
       "      <td>189900</td>\n",
       "    </tr>\n",
       "    <tr>\n",
       "      <th>...</th>\n",
       "      <td>...</td>\n",
       "      <td>...</td>\n",
       "      <td>...</td>\n",
       "      <td>...</td>\n",
       "      <td>...</td>\n",
       "      <td>...</td>\n",
       "      <td>...</td>\n",
       "      <td>...</td>\n",
       "      <td>...</td>\n",
       "      <td>...</td>\n",
       "      <td>...</td>\n",
       "      <td>...</td>\n",
       "      <td>...</td>\n",
       "      <td>...</td>\n",
       "      <td>...</td>\n",
       "      <td>...</td>\n",
       "      <td>...</td>\n",
       "      <td>...</td>\n",
       "      <td>...</td>\n",
       "      <td>...</td>\n",
       "      <td>...</td>\n",
       "    </tr>\n",
       "    <tr>\n",
       "      <th>2006</th>\n",
       "      <td>2926</td>\n",
       "      <td>923275080</td>\n",
       "      <td>80</td>\n",
       "      <td>RL</td>\n",
       "      <td>37.0</td>\n",
       "      <td>7937</td>\n",
       "      <td>Pave</td>\n",
       "      <td>NaN</td>\n",
       "      <td>IR1</td>\n",
       "      <td>Lvl</td>\n",
       "      <td>...</td>\n",
       "      <td>0</td>\n",
       "      <td>0</td>\n",
       "      <td>NaN</td>\n",
       "      <td>GdPrv</td>\n",
       "      <td>NaN</td>\n",
       "      <td>0</td>\n",
       "      <td>3</td>\n",
       "      <td>WD</td>\n",
       "      <td>Normal</td>\n",
       "      <td>142500</td>\n",
       "    </tr>\n",
       "    <tr>\n",
       "      <th>2006</th>\n",
       "      <td>2927</td>\n",
       "      <td>923276100</td>\n",
       "      <td>20</td>\n",
       "      <td>RL</td>\n",
       "      <td>NaN</td>\n",
       "      <td>8885</td>\n",
       "      <td>Pave</td>\n",
       "      <td>NaN</td>\n",
       "      <td>IR1</td>\n",
       "      <td>Low</td>\n",
       "      <td>...</td>\n",
       "      <td>0</td>\n",
       "      <td>0</td>\n",
       "      <td>NaN</td>\n",
       "      <td>MnPrv</td>\n",
       "      <td>NaN</td>\n",
       "      <td>0</td>\n",
       "      <td>6</td>\n",
       "      <td>WD</td>\n",
       "      <td>Normal</td>\n",
       "      <td>131000</td>\n",
       "    </tr>\n",
       "    <tr>\n",
       "      <th>2006</th>\n",
       "      <td>2928</td>\n",
       "      <td>923400125</td>\n",
       "      <td>85</td>\n",
       "      <td>RL</td>\n",
       "      <td>62.0</td>\n",
       "      <td>10441</td>\n",
       "      <td>Pave</td>\n",
       "      <td>NaN</td>\n",
       "      <td>Reg</td>\n",
       "      <td>Lvl</td>\n",
       "      <td>...</td>\n",
       "      <td>0</td>\n",
       "      <td>0</td>\n",
       "      <td>NaN</td>\n",
       "      <td>MnPrv</td>\n",
       "      <td>Shed</td>\n",
       "      <td>700</td>\n",
       "      <td>7</td>\n",
       "      <td>WD</td>\n",
       "      <td>Normal</td>\n",
       "      <td>132000</td>\n",
       "    </tr>\n",
       "    <tr>\n",
       "      <th>2006</th>\n",
       "      <td>2929</td>\n",
       "      <td>924100070</td>\n",
       "      <td>20</td>\n",
       "      <td>RL</td>\n",
       "      <td>77.0</td>\n",
       "      <td>10010</td>\n",
       "      <td>Pave</td>\n",
       "      <td>NaN</td>\n",
       "      <td>Reg</td>\n",
       "      <td>Lvl</td>\n",
       "      <td>...</td>\n",
       "      <td>0</td>\n",
       "      <td>0</td>\n",
       "      <td>NaN</td>\n",
       "      <td>NaN</td>\n",
       "      <td>NaN</td>\n",
       "      <td>0</td>\n",
       "      <td>4</td>\n",
       "      <td>WD</td>\n",
       "      <td>Normal</td>\n",
       "      <td>170000</td>\n",
       "    </tr>\n",
       "    <tr>\n",
       "      <th>2006</th>\n",
       "      <td>2930</td>\n",
       "      <td>924151050</td>\n",
       "      <td>60</td>\n",
       "      <td>RL</td>\n",
       "      <td>74.0</td>\n",
       "      <td>9627</td>\n",
       "      <td>Pave</td>\n",
       "      <td>NaN</td>\n",
       "      <td>Reg</td>\n",
       "      <td>Lvl</td>\n",
       "      <td>...</td>\n",
       "      <td>0</td>\n",
       "      <td>0</td>\n",
       "      <td>NaN</td>\n",
       "      <td>NaN</td>\n",
       "      <td>NaN</td>\n",
       "      <td>0</td>\n",
       "      <td>11</td>\n",
       "      <td>WD</td>\n",
       "      <td>Normal</td>\n",
       "      <td>188000</td>\n",
       "    </tr>\n",
       "  </tbody>\n",
       "</table>\n",
       "<p>2930 rows × 81 columns</p>\n",
       "</div>"
      ],
      "text/plain": [
       "         Order        PID  MS SubClass MS Zoning  Lot Frontage  Lot Area  \\\n",
       "Yr Sold                                                                    \n",
       "2010         1  526301100           20        RL         141.0     31770   \n",
       "2010         2  526350040           20        RH          80.0     11622   \n",
       "2010         3  526351010           20        RL          81.0     14267   \n",
       "2010         4  526353030           20        RL          93.0     11160   \n",
       "2010         5  527105010           60        RL          74.0     13830   \n",
       "...        ...        ...          ...       ...           ...       ...   \n",
       "2006      2926  923275080           80        RL          37.0      7937   \n",
       "2006      2927  923276100           20        RL           NaN      8885   \n",
       "2006      2928  923400125           85        RL          62.0     10441   \n",
       "2006      2929  924100070           20        RL          77.0     10010   \n",
       "2006      2930  924151050           60        RL          74.0      9627   \n",
       "\n",
       "        Street Alley Lot Shape Land Contour  ... Screen Porch Pool Area  \\\n",
       "Yr Sold                                      ...                          \n",
       "2010      Pave   NaN       IR1          Lvl  ...            0         0   \n",
       "2010      Pave   NaN       Reg          Lvl  ...          120         0   \n",
       "2010      Pave   NaN       IR1          Lvl  ...            0         0   \n",
       "2010      Pave   NaN       Reg          Lvl  ...            0         0   \n",
       "2010      Pave   NaN       IR1          Lvl  ...            0         0   \n",
       "...        ...   ...       ...          ...  ...          ...       ...   \n",
       "2006      Pave   NaN       IR1          Lvl  ...            0         0   \n",
       "2006      Pave   NaN       IR1          Low  ...            0         0   \n",
       "2006      Pave   NaN       Reg          Lvl  ...            0         0   \n",
       "2006      Pave   NaN       Reg          Lvl  ...            0         0   \n",
       "2006      Pave   NaN       Reg          Lvl  ...            0         0   \n",
       "\n",
       "        Pool QC  Fence Misc Feature Misc Val Mo Sold Sale Type  \\\n",
       "Yr Sold                                                          \n",
       "2010        NaN    NaN          NaN        0       5       WD    \n",
       "2010        NaN  MnPrv          NaN        0       6       WD    \n",
       "2010        NaN    NaN         Gar2    12500       6       WD    \n",
       "2010        NaN    NaN          NaN        0       4       WD    \n",
       "2010        NaN  MnPrv          NaN        0       3       WD    \n",
       "...         ...    ...          ...      ...     ...       ...   \n",
       "2006        NaN  GdPrv          NaN        0       3       WD    \n",
       "2006        NaN  MnPrv          NaN        0       6       WD    \n",
       "2006        NaN  MnPrv         Shed      700       7       WD    \n",
       "2006        NaN    NaN          NaN        0       4       WD    \n",
       "2006        NaN    NaN          NaN        0      11       WD    \n",
       "\n",
       "         Sale Condition  SalePrice  \n",
       "Yr Sold                             \n",
       "2010             Normal     215000  \n",
       "2010             Normal     105000  \n",
       "2010             Normal     172000  \n",
       "2010             Normal     244000  \n",
       "2010             Normal     189900  \n",
       "...                 ...        ...  \n",
       "2006             Normal     142500  \n",
       "2006             Normal     131000  \n",
       "2006             Normal     132000  \n",
       "2006             Normal     170000  \n",
       "2006             Normal     188000  \n",
       "\n",
       "[2930 rows x 81 columns]"
      ]
     },
     "metadata": {},
     "output_type": "display_data"
    },
    {
     "data": {
      "text/plain": [
       "array([198254.89978528, 113367.45913335, 161730.96150478, ...,\n",
       "       121632.81519683, 168432.60155624, 236677.63608036])"
      ]
     },
     "execution_count": 13,
     "metadata": {},
     "output_type": "execute_result"
    }
   ],
   "source": [
    "house_df = pd.read_csv(\"AmesHousing.txt\", index_col=\"Yr Sold\", sep=\"\\t\") \n",
    "display(house_df)\n",
    "\n",
    "house_model = LinearRegression()\n",
    "house_model.fit(X=house_df[[\"Gr Liv Area\"]], y=house_df[\"SalePrice\"])\n",
    "house_model.predict(X=house_df[[\"Gr Liv Area\"]])"
   ]
  },
  {
   "cell_type": "raw",
   "metadata": {},
   "source": [
    "This array represents the predicted Sale price of a home in dollars for each home, given the square footage."
   ]
  },
  {
   "cell_type": "code",
   "execution_count": 14,
   "metadata": {},
   "outputs": [
    {
     "data": {
      "text/plain": [
       "<AxesSubplot:xlabel='Gr Liv Area', ylabel='SalePrice'>"
      ]
     },
     "execution_count": 14,
     "metadata": {},
     "output_type": "execute_result"
    },
    {
     "data": {
      "image/png": "[encoded data removed]",
      "text/plain": [
       "<Figure size 432x288 with 1 Axes>"
      ]
     },
     "metadata": {
      "needs_background": "light"
     },
     "output_type": "display_data"
    }
   ],
   "source": [
    "X_new = pd.DataFrame()\n",
    "X_new[\"Gr Liv Area\"] = np.linspace(0, 5000)\n",
    "y_new_ = pd.Series(\n",
    "    house_model.predict(X_new), # y values in Series.plot.line()\n",
    "    index=X_new[\"Gr Liv Area\"]    # x values in Series.plot.line()\n",
    ")\n",
    "\n",
    "# plot the data, then the model\n",
    "house_df.plot.scatter(x=\"Gr Liv Area\", y=\"SalePrice\")\n",
    "y_new_.plot.line()"
   ]
  },
  {
   "cell_type": "markdown",
   "metadata": {
    "colab_type": "text",
    "id": "pOTgz8KAgc4s"
   },
   "source": [
    "2\\.  There is another way to graph a fitted linear regression model: extract the intercept and coefficient and draw a line with that intercept and slope. Verify that this gives the same graph as Exercise 2."
   ]
  },
  {
   "cell_type": "code",
   "execution_count": 15,
   "metadata": {},
   "outputs": [
    {
     "name": "stdout",
     "output_type": "stream",
     "text": [
      "Slope is  [111.69400086] Intercept is  13289.63436475952\n"
     ]
    },
    {
     "data": {
      "text/plain": [
       "[<matplotlib.lines.Line2D at 0x20eeacd4700>]"
      ]
     },
     "execution_count": 15,
     "metadata": {},
     "output_type": "execute_result"
    },
    {
     "data": {
      "image/png": "[encoded data removed]",
      "text/plain": [
       "<Figure size 432x288 with 1 Axes>"
      ]
     },
     "metadata": {
      "needs_background": "light"
     },
     "output_type": "display_data"
    }
   ],
   "source": [
    "import matplotlib.pyplot as plt\n",
    "house_df.plot.scatter(x=\"Gr Liv Area\", y=\"SalePrice\")\n",
    "print(\"Slope is \",house_model.coef_, \"Intercept is \",house_model.intercept_)\n",
    "y_pred_ = house_model.coef_ * X_new[\"Gr Liv Area\"] + house_model.intercept_\n",
    "plt.plot(X_new[\"Gr Liv Area\"], y_pred_)"
   ]
  },
  {
   "cell_type": "raw",
   "metadata": {},
   "source": [
    "Yes, the graphs match. The slope represents that for every 1 Sq. ft. of house, there is an associated $111.69 increase in the sale price. "
   ]
  },
  {
   "cell_type": "markdown",
   "metadata": {
    "colab_type": "text",
    "id": "1-I-np7Ugc40"
   },
   "source": [
    " 3\\. Fit a linear regression model that predicts the price of a home using square footage, number of bedrooms (**Bedroom AbvGr**), number of full bathrooms (**Full Bath**), and number of half bathrooms (**Half Bath**). Interpret the coefficients. Then, use your fitted model to predict the price of a home that is 1500 square feet, with 3 bedrooms, 2 full baths, and 1 half bath."
   ]
  },
  {
   "cell_type": "code",
   "execution_count": 16,
   "metadata": {},
   "outputs": [
    {
     "data": {
      "text/plain": [
       "array([179259.36600924, 119498.42279868, 141911.84752569, ...,\n",
       "        98242.85629925, 177721.65791096, 247885.39263788])"
      ]
     },
     "execution_count": 16,
     "metadata": {},
     "output_type": "execute_result"
    }
   ],
   "source": [
    "house_model = LinearRegression()\n",
    "house_model.fit(\n",
    "    X = house_df[[\"Gr Liv Area\", \"Bedroom AbvGr\", \"Full Bath\", \"Half Bath\"]],\n",
    "    y = house_df[\"SalePrice\"]\n",
    ")\n",
    "house_model.predict(\n",
    "    X = house_df[[\"Gr Liv Area\", \"Bedroom AbvGr\", \"Full Bath\", \"Half Bath\"]]\n",
    ")"
   ]
  },
  {
   "cell_type": "raw",
   "metadata": {},
   "source": [
    "These coefficients represent the predicted prices of a home, with the given four variables. "
   ]
  },
  {
   "cell_type": "code",
   "execution_count": 17,
   "metadata": {},
   "outputs": [
    {
     "name": "stdout",
     "output_type": "stream",
     "text": [
      "[   118.09986838 -29994.95675968  26728.53342793   1271.13847733]\n",
      "188835.45844692792\n"
     ]
    }
   ],
   "source": [
    "coef = house_model.coef_\n",
    "print(coef)\n",
    "price = house_model.intercept_ + coef[0]*1500 + coef[1]*3 + coef[2]*2 + coef[3]*1\n",
    "print(price)"
   ]
  },
  {
   "cell_type": "raw",
   "metadata": {},
   "source": [
    "So the predicted price of the home is $188,835.46. I suspect that the -30K coefficient for num. bedrooms is caused by the 3 outliers (large sq. ft. low price) that is skewing this coefficient so much."
   ]
  },
  {
   "cell_type": "markdown",
   "metadata": {
    "colab_type": "text",
    "id": "Vjy1aIPXgc42"
   },
   "source": [
    "_Exercises 4-5 ask you to fit linear regression models to the tips data (tips.csv ), which contains information about tips collected by a waiter._"
   ]
  },
  {
   "cell_type": "code",
   "execution_count": 18,
   "metadata": {},
   "outputs": [
    {
     "data": {
      "text/html": [
       "<div>\n",
       "<style scoped>\n",
       "    .dataframe tbody tr th:only-of-type {\n",
       "        vertical-align: middle;\n",
       "    }\n",
       "\n",
       "    .dataframe tbody tr th {\n",
       "        vertical-align: top;\n",
       "    }\n",
       "\n",
       "    .dataframe thead th {\n",
       "        text-align: right;\n",
       "    }\n",
       "</style>\n",
       "<table border=\"1\" class=\"dataframe\">\n",
       "  <thead>\n",
       "    <tr style=\"text-align: right;\">\n",
       "      <th></th>\n",
       "      <th>obs</th>\n",
       "      <th>totbill</th>\n",
       "      <th>tip</th>\n",
       "      <th>sex</th>\n",
       "      <th>smoker</th>\n",
       "      <th>day</th>\n",
       "      <th>time</th>\n",
       "      <th>size</th>\n",
       "    </tr>\n",
       "  </thead>\n",
       "  <tbody>\n",
       "    <tr>\n",
       "      <th>0</th>\n",
       "      <td>1</td>\n",
       "      <td>16.99</td>\n",
       "      <td>1.01</td>\n",
       "      <td>F</td>\n",
       "      <td>No</td>\n",
       "      <td>Sun</td>\n",
       "      <td>Night</td>\n",
       "      <td>2</td>\n",
       "    </tr>\n",
       "    <tr>\n",
       "      <th>1</th>\n",
       "      <td>2</td>\n",
       "      <td>10.34</td>\n",
       "      <td>1.66</td>\n",
       "      <td>M</td>\n",
       "      <td>No</td>\n",
       "      <td>Sun</td>\n",
       "      <td>Night</td>\n",
       "      <td>3</td>\n",
       "    </tr>\n",
       "    <tr>\n",
       "      <th>2</th>\n",
       "      <td>3</td>\n",
       "      <td>21.01</td>\n",
       "      <td>3.50</td>\n",
       "      <td>M</td>\n",
       "      <td>No</td>\n",
       "      <td>Sun</td>\n",
       "      <td>Night</td>\n",
       "      <td>3</td>\n",
       "    </tr>\n",
       "    <tr>\n",
       "      <th>3</th>\n",
       "      <td>4</td>\n",
       "      <td>23.68</td>\n",
       "      <td>3.31</td>\n",
       "      <td>M</td>\n",
       "      <td>No</td>\n",
       "      <td>Sun</td>\n",
       "      <td>Night</td>\n",
       "      <td>2</td>\n",
       "    </tr>\n",
       "    <tr>\n",
       "      <th>4</th>\n",
       "      <td>5</td>\n",
       "      <td>24.59</td>\n",
       "      <td>3.61</td>\n",
       "      <td>F</td>\n",
       "      <td>No</td>\n",
       "      <td>Sun</td>\n",
       "      <td>Night</td>\n",
       "      <td>4</td>\n",
       "    </tr>\n",
       "    <tr>\n",
       "      <th>...</th>\n",
       "      <td>...</td>\n",
       "      <td>...</td>\n",
       "      <td>...</td>\n",
       "      <td>...</td>\n",
       "      <td>...</td>\n",
       "      <td>...</td>\n",
       "      <td>...</td>\n",
       "      <td>...</td>\n",
       "    </tr>\n",
       "    <tr>\n",
       "      <th>239</th>\n",
       "      <td>240</td>\n",
       "      <td>29.03</td>\n",
       "      <td>5.92</td>\n",
       "      <td>M</td>\n",
       "      <td>No</td>\n",
       "      <td>Sat</td>\n",
       "      <td>Night</td>\n",
       "      <td>3</td>\n",
       "    </tr>\n",
       "    <tr>\n",
       "      <th>240</th>\n",
       "      <td>241</td>\n",
       "      <td>27.18</td>\n",
       "      <td>2.00</td>\n",
       "      <td>F</td>\n",
       "      <td>Yes</td>\n",
       "      <td>Sat</td>\n",
       "      <td>Night</td>\n",
       "      <td>2</td>\n",
       "    </tr>\n",
       "    <tr>\n",
       "      <th>241</th>\n",
       "      <td>242</td>\n",
       "      <td>22.67</td>\n",
       "      <td>2.00</td>\n",
       "      <td>M</td>\n",
       "      <td>Yes</td>\n",
       "      <td>Sat</td>\n",
       "      <td>Night</td>\n",
       "      <td>2</td>\n",
       "    </tr>\n",
       "    <tr>\n",
       "      <th>242</th>\n",
       "      <td>243</td>\n",
       "      <td>17.82</td>\n",
       "      <td>1.75</td>\n",
       "      <td>M</td>\n",
       "      <td>No</td>\n",
       "      <td>Sat</td>\n",
       "      <td>Night</td>\n",
       "      <td>2</td>\n",
       "    </tr>\n",
       "    <tr>\n",
       "      <th>243</th>\n",
       "      <td>244</td>\n",
       "      <td>18.78</td>\n",
       "      <td>3.00</td>\n",
       "      <td>F</td>\n",
       "      <td>No</td>\n",
       "      <td>Thu</td>\n",
       "      <td>Night</td>\n",
       "      <td>2</td>\n",
       "    </tr>\n",
       "  </tbody>\n",
       "</table>\n",
       "<p>244 rows × 8 columns</p>\n",
       "</div>"
      ],
      "text/plain": [
       "     obs  totbill   tip sex smoker  day   time  size\n",
       "0      1    16.99  1.01   F     No  Sun  Night     2\n",
       "1      2    10.34  1.66   M     No  Sun  Night     3\n",
       "2      3    21.01  3.50   M     No  Sun  Night     3\n",
       "3      4    23.68  3.31   M     No  Sun  Night     2\n",
       "4      5    24.59  3.61   F     No  Sun  Night     4\n",
       "..   ...      ...   ...  ..    ...  ...    ...   ...\n",
       "239  240    29.03  5.92   M     No  Sat  Night     3\n",
       "240  241    27.18  2.00   F    Yes  Sat  Night     2\n",
       "241  242    22.67  2.00   M    Yes  Sat  Night     2\n",
       "242  243    17.82  1.75   M     No  Sat  Night     2\n",
       "243  244    18.78  3.00   F     No  Thu  Night     2\n",
       "\n",
       "[244 rows x 8 columns]"
      ]
     },
     "metadata": {},
     "output_type": "display_data"
    }
   ],
   "source": [
    "tips_df = pd.read_csv(\"tips.csv\")\n",
    "display(tips_df)"
   ]
  },
  {
   "cell_type": "markdown",
   "metadata": {
    "colab_type": "text",
    "id": "GBoWHzLbgc45"
   },
   "source": [
    "    4\\. Suppose you want to predict how much a male diner will tip on a Sunday bill of \\$40.00. Fit a linear regression model to the tips data to answer this question. (Hint: You will need to convert categorical variables to quantitative variables. asZaqAZ)"
   ]
  },
  {
   "cell_type": "code",
   "execution_count": 19,
   "metadata": {},
   "outputs": [
    {
     "name": "stdout",
     "output_type": "stream",
     "text": [
      "[-0.03969456  0.02587309  0.10475113]\n",
      "5.134548274120359\n"
     ]
    }
   ],
   "source": [
    "#Set sex and day to dummy variables\n",
    "#pd.set_option(\"display.max_rows\",None, \"display.max_columns\", None)\n",
    "newValues = {\"sex\": {'F': 0, 'M': 1}}\n",
    "df_tips_new = tips_df\n",
    "df_tips_new = tips_df.replace(newValues)\n",
    "newValues = {'day': {'Thu': 0, 'Fri': 1, 'Sat':2, 'Sun':3}}\n",
    "df_tips_new = df_tips_new.replace(newValues)\n",
    "\n",
    "#tips_df[\"sex\"] = pd.factorize(tips_df[\"sex\"])[0] # F is 0, M is 1\n",
    "#display(tips_df[\"sex\"])\n",
    "#tips_df[\"day\"] = pd.factorize(tips_df[\"day\"])[0] # Sun is 0, Sat 1, Thurs 2, Friday 3\n",
    "#display(tips_df[\"day\"])\n",
    "\n",
    "tips_model = LinearRegression()\n",
    "tips_model.fit(\n",
    "    X = df_tips_new[[\"sex\", \"day\", \"totbill\"]],\n",
    "    y = df_tips_new[\"tip\"]\n",
    ")\n",
    "coef = tips_model.coef_\n",
    "print(coef)\n",
    "tip = tips_model.intercept_ + coef[0]*1+coef[1]*3+coef[2]*40\n",
    "print(tip)"
   ]
  },
  {
   "cell_type": "raw",
   "metadata": {},
   "source": [
    "So for a male diner on a Sunday with a bill of $40.00, one can expect a tip of ~$5.13."
   ]
  },
  {
   "cell_type": "markdown",
   "metadata": {
    "colab_type": "text",
    "id": "-1JP6TiPgc46"
   },
   "source": [
    "5\\. Fit a linear regression model, with no intercept, that predicts the tip from the total bill. That is, we want our predictions to be of the form \n",
    "$$ \\widehat{\\text{tip}} = c \\cdot (\\text{total bill}). $$\n",
    "where $c$ is some coefficient to be learned from the training data. \n",
    "\n",
    "(_Hint:_ `LinearRegression()` has a parameter, `fit_intercept=`, which is `True` by default.)\n",
    "    \n",
    "Plot the data and the fitted model. In practical terms, what assumption is being made when we fit a model with no intercept? "
   ]
  },
  {
   "cell_type": "code",
   "execution_count": 20,
   "metadata": {
    "colab": {},
    "colab_type": "code",
    "id": "KuepEZ5d1vDh"
   },
   "outputs": [
    {
     "data": {
      "text/plain": [
       "<AxesSubplot:xlabel='totbill', ylabel='tip'>"
      ]
     },
     "execution_count": 20,
     "metadata": {},
     "output_type": "execute_result"
    },
    {
     "data": {
      "image/png": "[encoded data removed]",
      "text/plain": [
       "<Figure size 432x288 with 1 Axes>"
      ]
     },
     "metadata": {
      "needs_background": "light"
     },
     "output_type": "display_data"
    }
   ],
   "source": [
    "tips_model = LinearRegression(fit_intercept=False)\n",
    "tips_model.fit(X=tips_df[[\"totbill\"]], y=tips_df[\"tip\"])\n",
    "X_new = pd.DataFrame()\n",
    "X_new[\"totbill\"] = np.linspace(0, 70)\n",
    "# create a Series out of the predicted values\n",
    "# (trailing underscore indicates fitted values)\n",
    "y_new_ = pd.Series(\n",
    "    tips_model.predict(X_new), # y values in Series.plot.line()\n",
    "    index=X_new[\"totbill\"]    # x values in Series.plot.line()\n",
    ")\n",
    "\n",
    "# plot the data, then the model\n",
    "tips_df.plot.scatter(x=\"totbill\", y=\"tip\")\n",
    "y_new_.plot.line()"
   ]
  },
  {
   "cell_type": "raw",
   "metadata": {},
   "source": [
    "With no fit intercept, I assume that with a total bill of $0, there will be a tip of $0. Which of course makes locical sense."
   ]
  }
 ],
 "metadata": {
  "colab": {
   "name": "Linear_Regression.ipynb",
   "provenance": []
  },
  "kernelspec": {
   "display_name": "Python 3",
   "language": "python",
   "name": "python3"
  },
  "language_info": {
   "codemirror_mode": {
    "name": "ipython",
    "version": 3
   },
   "file_extension": ".py",
   "mimetype": "text/x-python",
   "name": "python",
   "nbconvert_exporter": "python",
   "pygments_lexer": "ipython3",
   "version": "3.8.5"
  }
 },
 "nbformat": 4,
 "nbformat_minor": 4
}
