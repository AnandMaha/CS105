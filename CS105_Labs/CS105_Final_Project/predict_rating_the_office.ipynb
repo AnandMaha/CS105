{
 "cells": [
  {
   "cell_type": "markdown",
   "metadata": {},
   "source": [
    "# PREDICTING RATINGS FOR \"THE OFFICE\""
   ]
  },
  {
   "cell_type": "markdown",
   "metadata": {},
   "source": [
    "# USING VOTES for Rating, VIEWERSHIP, DURATION, AND IF THERE IS >= 1 GUEST STAR FOR PREDICTORS. \n",
    "\n",
    "# INTRO TO \"THE OFFICE\"\n",
    "- It is a popular American TV sitcom that aired 9 seasons from 2005 to 2013.\n",
    "- It is a mockumentary, set at a paper company in Scranton, Pa., and has a similar documentary style to that of the Ricky Gervais-led British original. There's Jim, the likable employee, whose best defined feature is looking at the camera funny. There's also Dwight, the successful co-worker who speaks his truth, and is Michael's best friend. And finally, Michael, the clueless boss that consistently makes a fool of himself. He's the one that held the office together with his ridiculous antics, and general clowning."
   ]
  },
  {
   "cell_type": "markdown",
   "metadata": {},
   "source": [
    "# EDA"
   ]
  },
  {
   "cell_type": "code",
   "execution_count": 1,
   "metadata": {},
   "outputs": [
    {
     "data": {
      "text/html": [
       "<div>\n",
       "<style scoped>\n",
       "    .dataframe tbody tr th:only-of-type {\n",
       "        vertical-align: middle;\n",
       "    }\n",
       "\n",
       "    .dataframe tbody tr th {\n",
       "        vertical-align: top;\n",
       "    }\n",
       "\n",
       "    .dataframe thead th {\n",
       "        text-align: right;\n",
       "    }\n",
       "</style>\n",
       "<table border=\"1\" class=\"dataframe\">\n",
       "  <thead>\n",
       "    <tr style=\"text-align: right;\">\n",
       "      <th></th>\n",
       "      <th>Season #</th>\n",
       "      <th>EpisodeTitle</th>\n",
       "      <th>Ratings (/10)</th>\n",
       "      <th>Votes for Ratings</th>\n",
       "      <th>Viewership (millions)</th>\n",
       "      <th>Duration (min.)</th>\n",
       "      <th>Num. of GuestStar(s)</th>\n",
       "    </tr>\n",
       "  </thead>\n",
       "  <tbody>\n",
       "    <tr>\n",
       "      <th>0</th>\n",
       "      <td>1</td>\n",
       "      <td>Pilot</td>\n",
       "      <td>7.5</td>\n",
       "      <td>4936</td>\n",
       "      <td>11.20</td>\n",
       "      <td>23</td>\n",
       "      <td>0</td>\n",
       "    </tr>\n",
       "    <tr>\n",
       "      <th>1</th>\n",
       "      <td>1</td>\n",
       "      <td>Diversity Day</td>\n",
       "      <td>8.3</td>\n",
       "      <td>4801</td>\n",
       "      <td>6.00</td>\n",
       "      <td>23</td>\n",
       "      <td>0</td>\n",
       "    </tr>\n",
       "    <tr>\n",
       "      <th>2</th>\n",
       "      <td>1</td>\n",
       "      <td>Health Care</td>\n",
       "      <td>7.8</td>\n",
       "      <td>4024</td>\n",
       "      <td>5.80</td>\n",
       "      <td>22</td>\n",
       "      <td>0</td>\n",
       "    </tr>\n",
       "    <tr>\n",
       "      <th>3</th>\n",
       "      <td>1</td>\n",
       "      <td>The Alliance</td>\n",
       "      <td>8.1</td>\n",
       "      <td>3915</td>\n",
       "      <td>5.40</td>\n",
       "      <td>23</td>\n",
       "      <td>0</td>\n",
       "    </tr>\n",
       "    <tr>\n",
       "      <th>4</th>\n",
       "      <td>1</td>\n",
       "      <td>Basketball</td>\n",
       "      <td>8.4</td>\n",
       "      <td>4294</td>\n",
       "      <td>5.00</td>\n",
       "      <td>23</td>\n",
       "      <td>0</td>\n",
       "    </tr>\n",
       "    <tr>\n",
       "      <th>...</th>\n",
       "      <td>...</td>\n",
       "      <td>...</td>\n",
       "      <td>...</td>\n",
       "      <td>...</td>\n",
       "      <td>...</td>\n",
       "      <td>...</td>\n",
       "      <td>...</td>\n",
       "    </tr>\n",
       "    <tr>\n",
       "      <th>183</th>\n",
       "      <td>9</td>\n",
       "      <td>Stairmageddon</td>\n",
       "      <td>8.0</td>\n",
       "      <td>1985</td>\n",
       "      <td>3.83</td>\n",
       "      <td>22</td>\n",
       "      <td>0</td>\n",
       "    </tr>\n",
       "    <tr>\n",
       "      <th>184</th>\n",
       "      <td>9</td>\n",
       "      <td>Paper Airplane</td>\n",
       "      <td>8.0</td>\n",
       "      <td>2007</td>\n",
       "      <td>3.25</td>\n",
       "      <td>22</td>\n",
       "      <td>0</td>\n",
       "    </tr>\n",
       "    <tr>\n",
       "      <th>185</th>\n",
       "      <td>9</td>\n",
       "      <td>Livin' the Dream</td>\n",
       "      <td>9.0</td>\n",
       "      <td>2831</td>\n",
       "      <td>3.51</td>\n",
       "      <td>42</td>\n",
       "      <td>1</td>\n",
       "    </tr>\n",
       "    <tr>\n",
       "      <th>186</th>\n",
       "      <td>9</td>\n",
       "      <td>A.A.R.M.</td>\n",
       "      <td>9.5</td>\n",
       "      <td>3914</td>\n",
       "      <td>4.56</td>\n",
       "      <td>43</td>\n",
       "      <td>0</td>\n",
       "    </tr>\n",
       "    <tr>\n",
       "      <th>187</th>\n",
       "      <td>9</td>\n",
       "      <td>Finale</td>\n",
       "      <td>9.8</td>\n",
       "      <td>10515</td>\n",
       "      <td>5.69</td>\n",
       "      <td>51</td>\n",
       "      <td>4</td>\n",
       "    </tr>\n",
       "  </tbody>\n",
       "</table>\n",
       "<p>188 rows × 7 columns</p>\n",
       "</div>"
      ],
      "text/plain": [
       "     Season #      EpisodeTitle  Ratings (/10)  Votes for Ratings  \\\n",
       "0           1             Pilot            7.5               4936   \n",
       "1           1     Diversity Day            8.3               4801   \n",
       "2           1       Health Care            7.8               4024   \n",
       "3           1      The Alliance            8.1               3915   \n",
       "4           1        Basketball            8.4               4294   \n",
       "..        ...               ...            ...                ...   \n",
       "183         9     Stairmageddon            8.0               1985   \n",
       "184         9    Paper Airplane            8.0               2007   \n",
       "185         9  Livin' the Dream            9.0               2831   \n",
       "186         9          A.A.R.M.            9.5               3914   \n",
       "187         9            Finale            9.8              10515   \n",
       "\n",
       "     Viewership (millions)  Duration (min.)  Num. of GuestStar(s)  \n",
       "0                    11.20               23                     0  \n",
       "1                     6.00               23                     0  \n",
       "2                     5.80               22                     0  \n",
       "3                     5.40               23                     0  \n",
       "4                     5.00               23                     0  \n",
       "..                     ...              ...                   ...  \n",
       "183                   3.83               22                     0  \n",
       "184                   3.25               22                     0  \n",
       "185                   3.51               42                     1  \n",
       "186                   4.56               43                     0  \n",
       "187                   5.69               51                     4  \n",
       "\n",
       "[188 rows x 7 columns]"
      ]
     },
     "metadata": {},
     "output_type": "display_data"
    }
   ],
   "source": [
    "import pandas as pd\n",
    "import numpy as np\n",
    "\n",
    "off_df = pd.read_csv(\"the_office_series.csv\")\n",
    "display(off_df)"
   ]
  },
  {
   "cell_type": "markdown",
   "metadata": {},
   "source": [
    "- The data being used includes: the Season number, Episode Title, Ratings out of 10, Number of Votes for each Rating, Viewership in millions, Duration in minutes, and how many Guest Stars were on each episode of \"The Office\". "
   ]
  },
  {
   "cell_type": "code",
   "execution_count": 2,
   "metadata": {},
   "outputs": [
    {
     "data": {
      "text/plain": [
       "<AxesSubplot:xlabel='Season #', ylabel='Ratings (/10)'>"
      ]
     },
     "execution_count": 2,
     "metadata": {},
     "output_type": "execute_result"
    },
    {
     "data": {
      "image/png": "[encoded data removed]",
      "text/plain": [
       "<Figure size 432x288 with 1 Axes>"
      ]
     },
     "metadata": {
      "needs_background": "light"
     },
     "output_type": "display_data"
    }
   ],
   "source": [
    "import matplotlib.pyplot as plt\n",
    "off_df.plot.scatter(x = \"Season #\", y = \"Ratings (/10)\")"
   ]
  },
  {
   "cell_type": "markdown",
   "metadata": {},
   "source": [
    "- From Seasons 1-5, it appears as though the ratings are fairly compact together with no clear outliers. Seasons 6, 7, and 9 appear to have much larger distributions for the ratings, with season 6 featuring episodes with ratings of 6.8 to 9.4. Season 8 features all of its episodes doing quite poorly in terms of ratings, featuring the lowest rated episode in the show's history being \"Get the Girl\" at a rating of 6.6/10."
   ]
  },
  {
   "cell_type": "code",
   "execution_count": 3,
   "metadata": {},
   "outputs": [
    {
     "data": {
      "text/plain": [
       "<AxesSubplot:xlabel='Votes for Ratings', ylabel='Ratings (/10)'>"
      ]
     },
     "execution_count": 3,
     "metadata": {},
     "output_type": "execute_result"
    },
    {
     "data": {
      "image/png": "[encoded data removed]",
      "text/plain": [
       "<Figure size 432x288 with 1 Axes>"
      ]
     },
     "metadata": {
      "needs_background": "light"
     },
     "output_type": "display_data"
    }
   ],
   "source": [
    "off_df.plot.scatter(x = \"Votes for Ratings\", y = \"Ratings (/10)\")"
   ]
  },
  {
   "cell_type": "markdown",
   "metadata": {},
   "source": [
    "- There would appear to be a logarithmic relationship between Ratings and Votes for Ratings. Focusing on the 3 clear outliers with a large amount of votes and high ratings, one of them had appeared right after the Super Bowl and had been widely considered one of the funniest episodes: \"Stress Relief\", was about Dwight purposely setting a fire in an office trash can, causing absolute pandemonium. The other two of those episodes feature Michael in some major way: \"Goodbye, Michael\", was the last episode of Season 7 where Michael made his exit to the show due to NBC not renewing his contract, and \"Finale\", was the last episode of the show with Michael appearing as a surprise guest character at the end as the best man for Dwight's wedding to Angela."
   ]
  },
  {
   "cell_type": "code",
   "execution_count": 4,
   "metadata": {},
   "outputs": [
    {
     "data": {
      "text/plain": [
       "<AxesSubplot:xlabel='Viewership (millions)', ylabel='Ratings (/10)'>"
      ]
     },
     "execution_count": 4,
     "metadata": {},
     "output_type": "execute_result"
    },
    {
     "data": {
      "image/png": "[encoded data removed]",
      "text/plain": [
       "<Figure size 432x288 with 1 Axes>"
      ]
     },
     "metadata": {
      "needs_background": "light"
     },
     "output_type": "display_data"
    }
   ],
   "source": [
    "off_df.plot.scatter(x = \"Viewership (millions)\", y = \"Ratings (/10)\")"
   ]
  },
  {
   "cell_type": "markdown",
   "metadata": {},
   "source": [
    "- It appears that all but one of the episodes, being the outlier, have a direct correlation between the Ratings and their Viewership. That one outlier is the episode \"Stress Relief\" that appeared after the Super Bowl, very likely influencing viewership for that episode."
   ]
  },
  {
   "cell_type": "code",
   "execution_count": 5,
   "metadata": {},
   "outputs": [
    {
     "data": {
      "text/plain": [
       "<AxesSubplot:xlabel='Duration (min.)', ylabel='Ratings (/10)'>"
      ]
     },
     "execution_count": 5,
     "metadata": {},
     "output_type": "execute_result"
    },
    {
     "data": {
      "image/png": "[encoded data removed]",
      "text/plain": [
       "<Figure size 432x288 with 1 Axes>"
      ]
     },
     "metadata": {
      "needs_background": "light"
     },
     "output_type": "display_data"
    }
   ],
   "source": [
    "off_df.plot.scatter(x = \"Duration (min.)\", y = \"Ratings (/10)\")"
   ]
  },
  {
   "cell_type": "markdown",
   "metadata": {},
   "source": [
    "- When episodes are 40 minutes and longer, the rating of the episode tends to be greater than the episodes that are less than 40 minutes. This may be due to the longer episodes being produced at a higher quality script, the audience being more engaged for longer, etc..."
   ]
  },
  {
   "cell_type": "code",
   "execution_count": 6,
   "metadata": {},
   "outputs": [
    {
     "data": {
      "text/plain": [
       "<AxesSubplot:xlabel='Num. of GuestStar(s)', ylabel='Ratings (/10)'>"
      ]
     },
     "execution_count": 6,
     "metadata": {},
     "output_type": "execute_result"
    },
    {
     "data": {
      "image/png": "[encoded data removed]",
      "text/plain": [
       "<Figure size 432x288 with 1 Axes>"
      ]
     },
     "metadata": {
      "needs_background": "light"
     },
     "output_type": "display_data"
    }
   ],
   "source": [
    "off_df.plot.scatter(x = \"Num. of GuestStar(s)\", y = \"Ratings (/10)\")"
   ]
  },
  {
   "cell_type": "markdown",
   "metadata": {},
   "source": [
    "- It seems that for the few episodes with 3+ Guest Stars, there tends to be a larger rating. However, those episodes having a high rating likely may have been due to extraneous factors like quality and content of the episode, and not directly due to the number of Guest Stars present.  "
   ]
  },
  {
   "cell_type": "markdown",
   "metadata": {},
   "source": [
    "# KNN REGRESSION"
   ]
  },
  {
   "cell_type": "code",
   "execution_count": 11,
   "metadata": {},
   "outputs": [
    {
     "name": "stdout",
     "output_type": "stream",
     "text": [
      "k should be 8\n"
     ]
    },
    {
     "data": {
      "image/png": "[encoded data removed]",
      "text/plain": [
       "<Figure size 432x288 with 1 Axes>"
      ]
     },
     "metadata": {
      "needs_background": "light"
     },
     "output_type": "display_data"
    }
   ],
   "source": [
    "from sklearn.preprocessing import StandardScaler # scaling data\n",
    "from sklearn.pipeline import make_pipeline # to combine StandardScalar() and KNeighborsRegressor\n",
    "from sklearn.neighbors import KNeighborsRegressor # what we want to do!\n",
    "from sklearn.model_selection import cross_val_predict # to get predictions \n",
    "from sklearn.metrics import mean_squared_error, r2_score # test\n",
    "\n",
    "# Votes, Viewership, onwards will be used as features for our model\n",
    "# and our target will be Ratings\n",
    "X = off_df.iloc[:, 3:]\n",
    "y = off_df.iloc[:, 2]\n",
    "\n",
    "#determine the optimal k to minimize mean-squared-error\n",
    "error = []\n",
    "for k in range(1,30):\n",
    "    classifier_pipeline = make_pipeline(StandardScaler(), KNeighborsRegressor(n_neighbors = k, weights = \"distance\"))\n",
    "    y_pred = cross_val_predict(classifier_pipeline, X, y, cv = 5)\n",
    "    error.append(mean_squared_error(y, y_pred))\n",
    "plt.plot(range(1,30), error)\n",
    "# tells us the k that produces the least mean-squared error with its model\n",
    "print(\"k should be\",error.index(min(error)) + 1)"
   ]
  },
  {
   "cell_type": "markdown",
   "metadata": {},
   "source": [
    "- Graph above is Mean-Squared-Error vs. k, a minimum k occurs at k = 10, any larger, the MSE increases at a seemingly linear rate."
   ]
  },
  {
   "cell_type": "code",
   "execution_count": 8,
   "metadata": {},
   "outputs": [
    {
     "data": {
      "text/plain": [
       "array([8.97516377, 9.10822499, 8.93077814, 9.00352497, 9.08851059,\n",
       "       7.77662739, 8.84175528, 8.76173777, 8.42739852, 8.19107121,\n",
       "       8.66061942, 8.65539087, 8.0870179 , 8.65477368, 8.05764447,\n",
       "       8.65655853, 8.31777052, 8.78676127, 8.61307193, 8.60002894,\n",
       "       7.92765049, 8.09967992, 8.65689433, 8.67532558, 8.6534992 ,\n",
       "       8.6637107 , 8.69253421, 9.26800055, 8.83265775, 7.97236363,\n",
       "       8.69585576, 8.54457652, 8.51414093, 8.56234452, 8.38590384,\n",
       "       8.5494765 , 8.51713386, 8.79018399, 8.14429039, 8.41653209,\n",
       "       8.52225379, 8.46490707, 8.14500494, 8.27490489, 8.12337609,\n",
       "       8.63018034, 8.32980036, 8.41597817, 8.43453982, 8.6532964 ,\n",
       "       8.86573981, 8.71091685, 8.69223922, 8.24241065, 8.67710931,\n",
       "       8.18618732, 8.63562314, 8.56396667, 8.54883189, 9.02460092,\n",
       "       8.38976157, 8.4131456 , 8.42996204, 8.39521645, 8.86201854,\n",
       "       8.66866456, 8.39710219, 8.30640573, 8.39570896, 8.06008185,\n",
       "       8.18644304, 8.44493975, 8.5500823 , 8.18562359, 8.40654529,\n",
       "       8.4846431 , 8.29689179, 8.99494527, 8.32946627, 8.41664626,\n",
       "       8.3368936 , 8.0515684 , 8.01453628, 8.37827549, 7.98741702,\n",
       "       8.33015401, 8.33051949, 8.80287361, 8.06636906, 8.31431174,\n",
       "       8.36439664, 8.48424256, 8.02004521, 8.01635774, 8.91177594,\n",
       "       8.29478588, 8.04757411, 8.46437585, 8.29037221, 8.13587827,\n",
       "       8.33323707, 8.0198621 , 8.3769672 , 8.38091951, 8.40838953,\n",
       "       7.88867277, 7.96816398, 8.41134241, 8.08963356, 7.98256812,\n",
       "       7.80483156, 8.01480665, 7.82745846, 7.97553448, 8.01470031,\n",
       "       7.98302761, 8.06357443, 8.03534914, 8.08326048, 8.17797067,\n",
       "       8.04011106, 7.86938119, 8.16719213, 8.0549963 , 8.06875367,\n",
       "       8.02402939, 8.0753355 , 8.92946922, 8.2670587 , 8.01442192,\n",
       "       8.16013377, 8.19231969, 9.07827439, 7.99957318, 8.72576112,\n",
       "       8.00001573, 8.54075992, 9.25785964, 8.13398374, 8.0505142 ,\n",
       "       8.72093199, 8.21744613, 7.99262169, 7.77793632, 7.75264052,\n",
       "       7.68044969, 7.7712324 , 7.82255867, 7.68057588, 7.68204309,\n",
       "       7.77511027, 7.66240614, 7.65832583, 7.53099297, 7.56129832,\n",
       "       7.63486066, 7.55433305, 7.57500015, 7.58861931, 7.59889733,\n",
       "       7.63370412, 7.64193637, 7.64714204, 7.58545793, 7.61968986,\n",
       "       7.64496441, 7.65030642, 7.64926104, 7.64684846, 7.57698818,\n",
       "       7.59683872, 7.6494536 , 7.66331461, 7.66334862, 7.58722505,\n",
       "       7.65041638, 7.64952258, 7.62640704, 7.65845834, 7.65006775,\n",
       "       8.03074622, 7.6853657 , 7.56996158, 7.66685122, 7.6857714 ,\n",
       "       7.99787006, 9.1161274 , 8.91428018])"
      ]
     },
     "execution_count": 8,
     "metadata": {},
     "output_type": "execute_result"
    }
   ],
   "source": [
    "# Run KNN Regression\n",
    "classifier_pipeline = make_pipeline(StandardScaler(), KNeighborsRegressor(n_neighbors = 8, weights = \"distance\"))\n",
    "y_pred = cross_val_predict(classifier_pipeline, X, y, cv = 5)\n",
    "y_pred"
   ]
  },
  {
   "cell_type": "markdown",
   "metadata": {},
   "source": [
    "- This array represents the ratings produced by my model based on that episode's Viewership (million), Votes for the Rating, Duration of the episode, and the Number of Guest Stars for the episode."
   ]
  },
  {
   "cell_type": "code",
   "execution_count": 9,
   "metadata": {},
   "outputs": [
    {
     "name": "stdout",
     "output_type": "stream",
     "text": [
      "Mean squared error is: 0.174445115416661\n",
      "R^2 value is: 0.4960663282402774\n"
     ]
    }
   ],
   "source": [
    "print(\"Mean squared error is:\", mean_squared_error(y, y_pred))\n",
    "print(\"R^2 value is:\", r2_score(y, y_pred))"
   ]
  },
  {
   "cell_type": "markdown",
   "metadata": {},
   "source": [
    "# CONCLUSION"
   ]
  },
  {
   "cell_type": "markdown",
   "metadata": {},
   "source": [
    "- My model has a R^2 value of 0.496 meaning that 49.6% of the variance present in Ratings can be explained through the variance of Votes for Rating, Viewership, Duration, and Num. of Guest Stars.\n",
    "- In order to improve my model, I would employ methods to better assess which features more strongly correlate to Ratings, and find more features to add to the model as that will decrease bias like number of times a character had a line in an episode.\n",
    "- Overall, I have produced a model that will predict the ratings of an episode of the Office based on numerous features such as Viewership, Votes for Rating, Duration, and Number of Guest Stars on the episode!"
   ]
  }
 ],
 "metadata": {
  "kernelspec": {
   "display_name": "Python 3",
   "language": "python",
   "name": "python3"
  },
  "language_info": {
   "codemirror_mode": {
    "name": "ipython",
    "version": 3
   },
   "file_extension": ".py",
   "mimetype": "text/x-python",
   "name": "python",
   "nbconvert_exporter": "python",
   "pygments_lexer": "ipython3",
   "version": "3.8.5"
  }
 },
 "nbformat": 4,
 "nbformat_minor": 4
}
